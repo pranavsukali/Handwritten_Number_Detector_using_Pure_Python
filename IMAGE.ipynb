{
 "cells": [
  {
   "cell_type": "code",
   "execution_count": null,
   "metadata": {
    "colab": {
     "base_uri": "https://localhost:8080/"
    },
    "id": "-k0imDRlmAyk",
    "outputId": "d88e9e85-218c-4c31-bb33-028c7f29ae4a"
   },
   "outputs": [
    {
     "name": "stdout",
     "output_type": "stream",
     "text": [
      "Warning: Your Kaggle API key is readable by other users on this system! To fix this, you can run 'chmod 600 /root/.kaggle/kaggle.json'\n",
      "Downloading mnistasjpg.zip to /content\n",
      " 98% 67.0M/68.4M [00:04<00:00, 21.7MB/s]\n",
      "100% 68.4M/68.4M [00:04<00:00, 16.0MB/s]\n"
     ]
    }
   ],
   "source": [
    "import tensorflow as tf\n",
    "from tensorflow import keras\n",
    "from keras import Sequential\n",
    "from keras.layers import Dense, Conv2D, MaxPooling2D, Flatten,Dropout\n",
    "\n",
    "import zipfile\n",
    "\n",
    "import matplotlib.pyplot as plt\n",
    "import cv2\n",
    "import numpy as np\n",
    "from google.colab.patches import cv2_imshow\n",
    "import os\n",
    "\n",
    "!mkdir -p ~/.kaggle\n",
    "!cp kaggle.json ~/.kaggle/\n",
    "!kaggle datasets download -d scolianni/mnistasjpg\n",
    "\n",
    "zip_ref =zipfile.ZipFile(\"/content/mnistasjpg.zip\", \"r\")\n",
    "zip_ref.extractall(\"/content\")\n",
    "zip_ref.close()\n",
    "\n",
    "#Keras helps with generators (divides in batches to save RAM)\n",
    "#https://keras.io/api/data_loading/image/"
   ]
  },
  {
   "cell_type": "code",
   "execution_count": null,
   "metadata": {
    "colab": {
     "base_uri": "https://localhost:8080/"
    },
    "id": "6Mxwl0Ls28JY",
    "outputId": "ecf65ab2-12cf-4a88-fb8d-51d684ae8363"
   },
   "outputs": [
    {
     "name": "stdout",
     "output_type": "stream",
     "text": [
      "Found 42000 files belonging to 10 classes.\n",
      "Found 600 files belonging to 10 classes.\n",
      "1313/1313 [==============================] - 12s 7ms/step - loss: 0.6931 - accuracy: 0.8235 - val_loss: 0.1830 - val_accuracy: 0.9350\n"
     ]
    }
   ],
   "source": [
    "#DATA\n",
    "train_ds=keras.utils.image_dataset_from_directory(\n",
    "    directory=\"/content/trainingSet/trainingSet\",\n",
    "    labels=\"inferred\",\n",
    "    label_mode=\"int\",\n",
    "    batch_size=32,\n",
    "    image_size=(28, 28)\n",
    ")\n",
    "\n",
    "validation_ds=keras.utils.image_dataset_from_directory(\n",
    "    directory=\"/content/trainingSample/trainingSample\",\n",
    "    labels=\"inferred\",\n",
    "    label_mode=\"int\",\n",
    "    batch_size=32,\n",
    "    image_size=(28, 28)\n",
    ")\n",
    "\n",
    "\n",
    "#CNN WITH SYNTAX\n",
    "\n",
    "train_ds = train_ds.map(lambda x, y: (tf.image.rgb_to_grayscale(x), y))\n",
    "validation_ds = validation_ds.map(lambda x, y: (tf.image.rgb_to_grayscale(x), y))\n",
    "model = Sequential()\n",
    "\n",
    "model.add(Conv2D(filters=2, kernel_size=(5, 5), activation=\"relu\", input_shape=(28, 28, 1)))\n",
    "model.add(MaxPooling2D((2, 2)))\n",
    "\n",
    "model.add(Conv2D(filters=8, kernel_size=(3, 3), activation=\"relu\"))\n",
    "model.add(MaxPooling2D((2, 2)))\n",
    "\n",
    "model.add(Flatten())\n",
    "\n",
    "model.add(Dense(64, activation='relu'))\n",
    "model.add(Dense(10, activation='softmax'))  # Change output units to 10 for 10 classes\n",
    "\n",
    "#MODEL INFO\n",
    "# model.summary()\n",
    "\n",
    "model.compile(optimizer='adam', loss='sparse_categorical_crossentropy', metrics=['accuracy'])\n",
    "history=model.fit(train_ds, epochs=1, validation_data=validation_ds)\n",
    "\n",
    "\n",
    "#IF WISH TO TEST!\n",
    "\n",
    "# test_img = cv2.resize(cv2.imread(\"blah.jpeg\", cv2.IMREAD_GRAYSCALE), (28, 28))\n",
    "# # Reshape the image\n",
    "# test_input = test_img.reshape(1, 28, 28, 1)\n",
    "# # Predict using the model\n",
    "# pred=model.predict(test_input)\n",
    "# print(np.argmax(pred))"
   ]
  },
  {
   "cell_type": "code",
   "execution_count": null,
   "metadata": {
    "id": "3sVYPmyhku8g"
   },
   "outputs": [],
   "source": [
    "def filter(image):\n",
    "  # image = cv2.cvtColor(image, cv2.COLOR_BGR2GRAY)\n",
    "  rows, cols,c = image.shape\n",
    "  if(c==3):\n",
    "    image = cv2.cvtColor(image, cv2.COLOR_BGR2GRAY)\n",
    "\n",
    "  padded=np.zeros((rows+4,cols+4));\n",
    "  pool1=np.zeros((rows//2,cols//2));\n",
    "  pool2=np.zeros((rows//2,cols//2));\n",
    "  for i in range(rows):\n",
    "    for j in range(cols):\n",
    "      padded[i+2,j+2]=image[i,j]\n",
    "  process = np.zeros((5, 5))\n",
    "  temp = np.zeros((5, 5))\n",
    "  fin1= np.zeros((rows, cols))\n",
    "  fin2= np.zeros((rows, cols))\n",
    "\n",
    "  #laplacian\n",
    "  kernel1=[\n",
    "      [1,4,7,4,1],\n",
    "       [4,16,26,16,4],\n",
    "        [7,26,41,26,7],\n",
    "         [4,26,26,16,4],\n",
    "          [1,4,7,4,1]\n",
    "      ]\n",
    "  bias1=1;\n",
    "\n",
    "  #weighted average\n",
    "  kernel2=[\n",
    "      [0,0,-1,0,0],\n",
    "       [0,-1,-2,-1,0],\n",
    "        [-1,-2,16,-2,-1],\n",
    "         [0,-1,-2,-1,0],\n",
    "          [0,0,-1,0,0]\n",
    "      ]\n",
    "  bias2=1;\n",
    "  def zero(val):\n",
    "    if(val<0):\n",
    "      return 0;\n",
    "    else:\n",
    "      return val;\n",
    "\n",
    "  for i in range(4,rows):\n",
    "      for j in range(4,cols):\n",
    "        temp=padded[i-2:i+3,j-2:j+3];\n",
    "        process=temp*kernel1;\n",
    "        h=np.mean(process[0:4,0:4]);\n",
    "        temp=bias1+h;\n",
    "        fin1[i,j]=zero(temp);\n",
    "\n",
    "  for i in range(4,rows):\n",
    "    for j in range(4,cols):\n",
    "      temp=padded[i-2:i+3,j-2:j+3];\n",
    "      process=temp*kernel2;\n",
    "      h=np.mean(process[0:4,0:4]);\n",
    "      temp=bias2+h;\n",
    "      fin2[i,j]=zero(temp);\n",
    "  for i in range(0,cols,2):\n",
    "    for j in range(0,rows,2):\n",
    "      pool1[i//2, j//2] = np.max(fin1[i:i+2, j:j+2])\n",
    "      pool2[i//2, j//2] = np.max(fin2[i:i+2, j:j+2])\n",
    "\n",
    "  def sigmoid(x):\n",
    "    return 1 / (1 + np.exp(-x))\n",
    "\n",
    "  pool1pad=np.zeros((pool1.shape[0]+2,pool1.shape[1]+2));\n",
    "  pool2pad=np.zeros((pool2.shape[0]+2,pool2.shape[1]+2));\n",
    "\n",
    "  processed1=np.zeros((pool1.shape[0],pool1.shape[1]));\n",
    "  processed2=np.zeros((pool2.shape[0],pool2.shape[1]));\n",
    "  processed3=np.zeros((pool2.shape[0],pool2.shape[1]));\n",
    "  processed4=np.zeros((pool2.shape[0],pool2.shape[1]));\n",
    "\n",
    "  propool1=np.zeros((pool1.shape[0]//2,pool1.shape[1]//2));\n",
    "  propool2=np.zeros((pool1.shape[0]//2,pool1.shape[1]//2));\n",
    "  propool3=np.zeros((pool1.shape[0]//2,pool1.shape[1]//2));\n",
    "  propool4=np.zeros((pool1.shape[0]//2,pool1.shape[1]//2));\n",
    "\n",
    "  temp1= np.zeros((3, 3))\n",
    "  for i in range(pool1.shape[0]):\n",
    "    for j in range(pool1.shape[1]):\n",
    "      pool1pad[i,j]=pool1[i,j];\n",
    "      pool2pad[i,j]=pool2[i,j]\n",
    "\n",
    "  pro1 =[[[-0.442,-0.124,-0.237],\n",
    "        [-0.121,-0.207,-0.136],\n",
    "        [0.104, 0.04, 0.207]],\n",
    "         [[0.2, 0.011, 0.163],\n",
    "          [0.019,-0.027, 0.178],\n",
    "          [-0.172,-0.068, 0.037]]]\n",
    "  pro1bias=-1.069;\n",
    "\n",
    "  pro2 =[[[0.1,0.04,0.067],\n",
    "        [-0.174,0.05,-0.063],\n",
    "        [-0.025,-0.073,-0.248]],\n",
    "       [[-0.075,0.217,0.155],\n",
    "        [-0.134,0.068,0.114],\n",
    "        [0.024,0.155,0.18]]]\n",
    "  pro2bias=-2.87;\n",
    "\n",
    "  pro3 =[[[-0.121,-0.114,-0.109],\n",
    "        [0.238,0.273,0.007],\n",
    "        [-0.065,0.0,0.102]],\n",
    "       [[-0.036,-0.167,-0.04],\n",
    "        [0.064,-0.025,-0.094],\n",
    "        [0.478,0.113,-0.089]]]\n",
    "  pro3bias=-2.963;\n",
    "\n",
    "  pro4=[[[-0.022,-0.03,0.072],\n",
    "       [0.113,0.095,-0.037],\n",
    "       [0.067,-0.006,0.172]],\n",
    "      [[-0.016,0.099,-0.688],\n",
    "       [0.005,-0.157,-0.238],\n",
    "       [-0.061,-0.13,-0.186]]]\n",
    "  pro4bias=-0.212;\n",
    "\n",
    "  for i in range(1, pool1.shape[0] - 1):\n",
    "    for j in range(1, pool1.shape[1] - 1):\n",
    "        temp1 = pool1pad[i - 1:i + 2, j - 1:j + 2]\n",
    "        temp2 = pool2pad[i - 1:i + 2, j - 1:j + 2]\n",
    "        processed1[i, j] = sigmoid((np.sum(temp1 * pro1[0]) +np.sum(temp2 * pro1[1]))+pro1bias);\n",
    "        processed2[i, j] = sigmoid((np.sum(temp1 * pro2[0]) +np.sum(temp2 * pro2[1]))+pro2bias);\n",
    "        processed3[i, j] = sigmoid((np.sum(temp1 * pro3[0]) +np.sum(temp2 * pro3[1]))+pro3bias);\n",
    "        processed4[i, j] = sigmoid((np.sum(temp1 * pro4[0]) +np.sum(temp2 * pro4[1]))+pro4bias);\n",
    "\n",
    "\n",
    "  for i in range(0,pool1.shape[1],2):\n",
    "    for j in range(0,pool1.shape[0],2):\n",
    "      propool1[i//2, j//2] = np.max(processed1[i:i+2, j:j+2])\n",
    "      propool2[i//2, j//2] = np.max(processed2[i:i+2, j:j+2])\n",
    "      propool3[i//2, j//2] = np.max(processed3[i:i+2, j:j+2])\n",
    "      propool4[i//2, j//2] = np.max(processed4[i:i+2, j:j+2])\n",
    "\n",
    "  fin_arr=(propool1.shape[1]*propool1.shape[0])*4;\n",
    "  onerow=np.zeros((1,fin_arr));\n",
    "  temp=0;\n",
    "  for i in range(propool1.shape[1]):\n",
    "    for j in range(propool1.shape[0]):\n",
    "      onerow[0,temp]=propool1[i,j]\n",
    "      temp=temp+1;\n",
    "  for i in range(propool1.shape[1]):\n",
    "    for j in range(propool1.shape[0]):\n",
    "      onerow[0,temp]=propool2[i,j]\n",
    "      temp=temp+1;\n",
    "  for i in range(propool1.shape[1]):\n",
    "    for j in range(propool1.shape[0]):\n",
    "      onerow[0,temp]=propool3[i,j]\n",
    "      temp=temp+1;\n",
    "  for i in range(propool1.shape[1]):\n",
    "    for j in range(propool1.shape[0]):\n",
    "      onerow[0,temp]=propool4[i,j]\n",
    "      temp=temp+1;\n",
    "#Output at onerow\n",
    "  return onerow;\n"
   ]
  },
  {
   "cell_type": "code",
   "execution_count": null,
   "metadata": {
    "id": "aSlh4IImJIzi"
   },
   "outputs": [],
   "source": [
    "#196 points of one image\n",
    "\n",
    "def train(model, maxbatch):\n",
    "    temp = np.zeros(196)\n",
    "    batch_counter = 0  # Counter to track the number of batches processed\n",
    "    print('\\n')\n",
    "    print('TRAINING  [',end='', flush=True)\n",
    "    for images, labels in train_ds:\n",
    "        for image, label in zip(images, labels):\n",
    "            if label == 0 or label == 1:\n",
    "                print('-', end='-', flush=True)\n",
    "                image_np = np.array(filter(image))\n",
    "                model[label] = (model[label] + image_np[0]) / 2\n",
    "\n",
    "        batch_counter += 1  # Increment the batch counter after processing each batch\n",
    "\n",
    "        if batch_counter == maxbatch:\n",
    "            print('> ] DONE!',end='', flush=True)\n",
    "            break  # Break out of the loop after processing the specified number of batches\n",
    "\n",
    "    print('\\n')\n",
    "    return model\n",
    "\n",
    "\n",
    "\n",
    "def pred(image, model, out):\n",
    "    def difference(a, b):\n",
    "        out = np.zeros(196)\n",
    "        for i in range(196):\n",
    "            out[i] = abs(a[i] - b[i])\n",
    "        return out.round(0)\n",
    "\n",
    "    output = (np.array(filter(image))).round(3)\n",
    "    for i in range(10):\n",
    "        outside = difference(output[0], model[i])\n",
    "        out[i] = outside\n",
    "    return out\n",
    "\n",
    "def check(image):\n",
    "  out = np.zeros((10,196))\n",
    "  pred(image, model, out)\n",
    "  row_sums=np.zeros(10)\n",
    "  a= np.sum(out, axis=1)\n",
    "  return ( np.argmin(a) )\n",
    "\n",
    "def acu(maxbatch):\n",
    "    batch_counter = 0\n",
    "    right = 0\n",
    "    total = 0\n",
    "    print('VALIDATING  [',end='', flush=True)\n",
    "    for images, labels in validation_ds:\n",
    "        for image, label in zip(images, labels):\n",
    "\n",
    "            if label == 0 or label == 1:\n",
    "                print('-', end='', flush=True)\n",
    "                total += 1\n",
    "                if label == check(image):\n",
    "                    right += 1\n",
    "\n",
    "        batch_counter += 1\n",
    "\n",
    "        if batch_counter == maxbatch:\n",
    "          print(' > ] DONE!',end='', flush=True)\n",
    "          break\n",
    "\n",
    "    print('\\n')\n",
    "    print(\"-----------------------------------------------------------------------------------------------------------------------------------------------------------------------------------------------------------------------\")\n",
    "\n",
    "    print(\"Total Images:\", total)\n",
    "    print(\"Right       :\", right)\n",
    "    accuracy = 100 * right / total if total != 0 else 0\n",
    "    print(\"accuracy:\", accuracy,\"%\")\n",
    "\n",
    "    print(\"------------------------------------------------------------------------------------------------------------------------------------------------------------------------------------------------------------------------\")\n"
   ]
  },
  {
   "cell_type": "code",
   "execution_count": null,
   "metadata": {
    "colab": {
     "base_uri": "https://localhost:8080/"
    },
    "id": "LDtdawf95qkw",
    "outputId": "e256a4ce-b089-4208-8c72-98981d47a6a8"
   },
   "outputs": [
    {
     "name": "stdout",
     "output_type": "stream",
     "text": [
      "\n",
      "\n",
      "TRAINING  [----"
     ]
    },
    {
     "name": "stderr",
     "output_type": "stream",
     "text": [
      "<ipython-input-12-84ea203cb11a>:64: RuntimeWarning: overflow encountered in exp\n",
      "  return 1 / (1 + np.exp(-x))\n"
     ]
    },
    {
     "name": "stdout",
     "output_type": "stream",
     "text": [
      "--------------------------------------------> ] DONE!\n",
      "\n",
      "VALIDATING  [--------------------------- > ] DONE!\n",
      "\n",
      "-----------------------------------------------------------------------------------------------------------------------------------------------------------------------------------------------------------------------\n",
      "Total Images: 27\n",
      "Right       : 24\n",
      "accuracy: 88.88888888888889 %\n",
      "------------------------------------------------------------------------------------------------------------------------------------------------------------------------------------------------------------------------\n"
     ]
    }
   ],
   "source": [
    "model = np.zeros((10, 196))\n",
    "\n",
    "model=train(model,3)\n",
    "\n",
    "acu(4)"
   ]
  },
  {
   "cell_type": "code",
   "execution_count": null,
   "metadata": {
    "id": "mpuVBgQTEJ2F"
   },
   "outputs": [],
   "source": [
    "def filterExplain(image):\n",
    "  rows, cols,c = image.shape\n",
    "  if(c==3):\n",
    "    image = cv2.cvtColor(image, cv2.COLOR_BGR2GRAY)\n",
    "  padded=np.zeros((rows+4,cols+4));\n",
    "  pool1=np.zeros((rows//2,cols//2));\n",
    "  pool2=np.zeros((rows//2,cols//2));\n",
    "  for i in range(rows):\n",
    "    for j in range(cols):\n",
    "      padded[i+2,j+2]=image[i,j]\n",
    "  process = np.zeros((5, 5))\n",
    "  temp = np.zeros((5, 5))\n",
    "  fin1= np.zeros((rows, cols))\n",
    "  fin2= np.zeros((rows, cols))\n",
    "\n",
    "  #laplacian\n",
    "  kernel1= [\n",
    "      [0,0,-1,0,0],\n",
    "       [0,-1,-2,-1,0],\n",
    "        [-1,-2,16,-2,-1],\n",
    "         [0,-1,-2,-1,0],\n",
    "          [0,0,-1,0,0]\n",
    "      ]\n",
    "  bias1=1;\n",
    "\n",
    "  #weighted average\n",
    "  kernel2=[\n",
    "      [1,4,7,4,1],\n",
    "       [4,16,26,16,4],\n",
    "        [7,26,41,26,7],\n",
    "         [4,26,26,16,4],\n",
    "          [1,4,7,4,1]\n",
    "      ]\n",
    "  bias2=1;\n",
    "  def zero(val):\n",
    "    if(val<0):\n",
    "      return 0;\n",
    "    else:\n",
    "      return val;\n",
    "\n",
    "  for i in range(4,rows):\n",
    "      for j in range(4,cols):\n",
    "        temp=padded[i-2:i+3,j-2:j+3];\n",
    "        process=temp*kernel1;\n",
    "        h=np.mean(process[0:4,0:4]);\n",
    "        temp=bias1+h;\n",
    "        fin1[i,j]=zero(temp);\n",
    "\n",
    "  for i in range(4,rows):\n",
    "    for j in range(4,cols):\n",
    "      temp=padded[i-2:i+3,j-2:j+3];\n",
    "      process=temp*kernel2;\n",
    "      h=np.mean(process[0:4,0:4]);\n",
    "      temp=bias2+h;\n",
    "      fin2[i,j]=zero(temp);\n",
    "  for i in range(0,cols,2):\n",
    "    for j in range(0,rows,2):\n",
    "      pool1[i//2, j//2] = np.max(fin1[i:i+2, j:j+2])\n",
    "      pool2[i//2, j//2] = np.max(fin2[i:i+2, j:j+2])\n",
    "\n",
    "  def sigmoid(x):\n",
    "    return 1 / (1 + np.exp(-x))\n",
    "\n",
    "  pool1pad=np.zeros((pool1.shape[0]+2,pool1.shape[1]+2));\n",
    "  pool2pad=np.zeros((pool2.shape[0]+2,pool2.shape[1]+2));\n",
    "\n",
    "  processed1=np.zeros((pool1.shape[0],pool1.shape[1]));\n",
    "  processed2=np.zeros((pool2.shape[0],pool2.shape[1]));\n",
    "  processed3=np.zeros((pool2.shape[0],pool2.shape[1]));\n",
    "  processed4=np.zeros((pool2.shape[0],pool2.shape[1]));\n",
    "\n",
    "  propool1=np.zeros((pool1.shape[0]//2,pool1.shape[1]//2));\n",
    "  propool2=np.zeros((pool1.shape[0]//2,pool1.shape[1]//2));\n",
    "  propool3=np.zeros((pool1.shape[0]//2,pool1.shape[1]//2));\n",
    "  propool4=np.zeros((pool1.shape[0]//2,pool1.shape[1]//2));\n",
    "\n",
    "  temp1= np.zeros((3, 3))\n",
    "  for i in range(pool1.shape[0]):\n",
    "    for j in range(pool1.shape[1]):\n",
    "      pool1pad[i,j]=pool1[i,j];\n",
    "      pool2pad[i,j]=pool2[i,j]\n",
    "\n",
    "#Edge Detector - Standard\n",
    "#This filter seems to be designed to detect edges or changes in intensity. The negative values in the filter suggest it's looking for transitions from light to dark areas or vice versa.\n",
    "#The first kernel captures horizontal edges, while the second kernel captures vertical edges.\n",
    "#The bias term (pro1bias) suggests that this filter might be sensitive to features that are relatively sparse in the image.\n",
    "\n",
    "  pro1 =[[[-0.442,-0.124,-0.237],\n",
    "        [-0.121,-0.207,-0.136],\n",
    "        [0.104, 0.04, 0.207]],\n",
    "         [[0.2, 0.011, 0.163],\n",
    "          [0.019,-0.027, 0.178],\n",
    "          [-0.172,-0.068, 0.037]]]\n",
    "  pro1bias=-1.069;\n",
    "\n",
    "\n",
    "#Edge Detector - Enhanced\"\n",
    "# This filter also seems to be aimed at edge detection, but with slightly different characteristics compared to Filter 1.\n",
    "# The positive and negative values in the filter indicate it's looking for changes in intensity as well.\n",
    "# Like Filter 1, it has two kernels, one for horizontal edges and the other for vertical edges.\n",
    "# The bias term (pro2bias) suggests similar sensitivity to sparse features in the image.\n",
    "\n",
    "  pro2 =[[[0.1,0.04,0.067],\n",
    "        [-0.174,0.05,-0.063],\n",
    "        [-0.025,-0.073,-0.248]],\n",
    "       [[-0.075,0.217,0.155],\n",
    "        [-0.134,0.068,0.114],\n",
    "        [0.024,0.155,0.18]]]\n",
    "  pro2bias=-2.87;\n",
    "\n",
    "#Corner and Junction Detector\n",
    "# This filter appears to be sensitive to corners or junctions in the image. It has elements that are positive and negative, capturing changes in intensity in multiple directions.\n",
    "# The kernels in this filter might detect corners, edges meeting at different angles, or T-junctions.\n",
    "# The bias term (pro3bias) indicates a similar sensitivity to sparse features.\n",
    "\n",
    "  pro3 =[[[-0.121,-0.114,-0.109],\n",
    "        [0.238,0.273,0.007],\n",
    "        [-0.065,0.0,0.102]],\n",
    "       [[-0.036,-0.167,-0.04],\n",
    "        [0.064,-0.025,-0.094],\n",
    "        [0.478,0.113,-0.089]]]\n",
    "  pro3bias=-2.963;\n",
    "\n",
    "#Texture and Pattern Detector\n",
    "# This filter seems to focus on texture or pattern detection rather than just edges or corners.\n",
    "# The elements in the kernels do not strictly alternate between positive and negative, suggesting it's looking for patterns that might not just involve abrupt intensity changes.\n",
    "# It might detect textures such as grids, fabrics, or repetitive patterns in the image.\n",
    "# The bias term (pro4bias) suggests sensitivity to specific textures or patterns.\n",
    "\n",
    "  pro4=[[[-0.022,-0.03,0.072],\n",
    "       [0.113,0.095,-0.037],\n",
    "       [0.067,-0.006,0.172]],\n",
    "      [[-0.016,0.099,-0.688],\n",
    "       [0.005,-0.157,-0.238],\n",
    "       [-0.061,-0.13,-0.186]]]\n",
    "  pro4bias=-0.212;\n",
    "\n",
    "  for i in range(1, pool1.shape[0] - 1):\n",
    "    for j in range(1, pool1.shape[1] - 1):\n",
    "        temp1 = pool1pad[i - 1:i + 2, j - 1:j + 2]\n",
    "        temp2 = pool2pad[i - 1:i + 2, j - 1:j + 2]\n",
    "        processed1[i, j] = sigmoid((np.sum(temp1 * pro1[0]) +np.sum(temp2 * pro1[1]))+pro1bias);\n",
    "        processed2[i, j] = sigmoid((np.sum(temp1 * pro2[0]) +np.sum(temp2 * pro2[1]))+pro2bias);\n",
    "        processed3[i, j] = sigmoid((np.sum(temp1 * pro3[0]) +np.sum(temp2 * pro3[1]))+pro3bias);\n",
    "        processed4[i, j] = sigmoid((np.sum(temp1 * pro4[0]) +np.sum(temp2 * pro4[1]))+pro4bias);\n",
    "\n",
    "\n",
    "  for i in range(0,pool1.shape[1],2):\n",
    "    for j in range(0,pool1.shape[0],2):\n",
    "      propool1[i//2, j//2] = np.max(processed1[i:i+2, j:j+2])\n",
    "      propool2[i//2, j//2] = np.max(processed2[i:i+2, j:j+2])\n",
    "      propool3[i//2, j//2] = np.max(processed3[i:i+2, j:j+2])\n",
    "      propool4[i//2, j//2] = np.max(processed4[i:i+2, j:j+2])\n",
    "\n",
    "\n",
    "\n",
    "  fin_arr=(propool1.shape[1]*propool1.shape[0])*4;\n",
    "  onerow=np.zeros((1,fin_arr));\n",
    "  temp=0;\n",
    "  for i in range(propool1.shape[1]):\n",
    "    for j in range(propool1.shape[0]):\n",
    "      onerow[0,temp]=propool1[i,j]\n",
    "      temp=temp+1;\n",
    "  for i in range(propool1.shape[1]):\n",
    "    for j in range(propool1.shape[0]):\n",
    "      onerow[0,temp]=propool2[i,j]\n",
    "      temp=temp+1;\n",
    "  for i in range(propool1.shape[1]):\n",
    "    for j in range(propool1.shape[0]):\n",
    "      onerow[0,temp]=propool3[i,j]\n",
    "      temp=temp+1;\n",
    "  for i in range(propool1.shape[1]):\n",
    "    for j in range(propool1.shape[0]):\n",
    "      onerow[0,temp]=propool4[i,j]\n",
    "      temp=temp+1;\n",
    "#Output at onerow\n",
    "#all 4 image data in one row\n",
    "\n",
    "  plt.figure(figsize=(15,15))\n",
    "\n",
    "  plt.subplot(5, 4, 1)\n",
    "  plt.imshow(image,cmap=\"gray\")\n",
    "  plt.title('original image')\n",
    "  plt.axis(False)\n",
    "\n",
    "  plt.subplot(5, 4, 2)\n",
    "  plt.imshow(fin1,cmap=\"gray\")\n",
    "  plt.title('laplacian filter')\n",
    "  plt.axis(False)\n",
    "\n",
    "  plt.subplot(5, 4, 3)\n",
    "  plt.imshow(fin2,cmap=\"gray\")\n",
    "  plt.title('Averaging filter')\n",
    "  plt.axis(False)\n",
    "\n",
    "  plt.subplot(5, 4, 6)\n",
    "  plt.imshow(pool1,cmap=\"gray\")\n",
    "  plt.title('Laplacian filter pooled')\n",
    "  plt.axis(False)\n",
    "\n",
    "  plt.subplot(5, 4, 7)\n",
    "  plt.imshow(pool2,cmap=\"gray\")\n",
    "  plt.title('Averaging pooled')\n",
    "  plt.axis(False)\n",
    "  print(pool2.shape)\n",
    "\n",
    "  plt.subplot(5, 4, 9)\n",
    "  plt.imshow(processed1,cmap=\"gray\")\n",
    "  plt.title('Edge Detector - Standard')\n",
    "  plt.axis(False)\n",
    "\n",
    "\n",
    "\n",
    "  plt.subplot(5, 4, 10)\n",
    "  plt.imshow(processed2,cmap=\"gray\")\n",
    "  plt.title('Edge Detector - Enhanced')\n",
    "  plt.axis(False)\n",
    "\n",
    "  plt.subplot(5, 4, 11)\n",
    "  plt.imshow(processed3,cmap=\"gray\")\n",
    "  plt.title('Corner and Junction Detector')\n",
    "  plt.axis(False)\n",
    "\n",
    "  plt.subplot(5, 4, 12)\n",
    "  plt.imshow(processed4,cmap=\"gray\")\n",
    "  plt.title('Texture and Pattern Detector')\n",
    "  plt.axis(False)\n",
    "\n",
    "  plt.subplot(5, 4, 13)\n",
    "  plt.imshow(propool1,cmap=\"gray\")\n",
    "  plt.title('Pooled')\n",
    "  plt.axis(False)\n",
    "\n",
    "\n",
    "\n",
    "  plt.subplot(5, 4, 14)\n",
    "  plt.imshow(propool2,cmap=\"gray\")\n",
    "  plt.title('Pooled')\n",
    "  plt.axis(False)\n",
    "\n",
    "  plt.subplot(5, 4, 15)\n",
    "  plt.imshow(propool3,cmap=\"gray\")\n",
    "  plt.title('Pooled')\n",
    "  plt.axis(False)\n",
    "\n",
    "  print(propool4.shape)\n",
    "\n",
    "  plt.subplot(5, 4, 16)\n",
    "  plt.imshow(propool4,cmap=\"gray\")\n",
    "  plt.title('Pooled')\n",
    "  plt.axis(False)\n",
    "\n",
    "  print(onerow.shape)\n",
    "  # plt.subplot(5, 4, 18)\n",
    "  # plt.imshow(onerow,cmap=\"gray\")\n",
    "  # plt.title('Output Image')\n",
    "  # plt.axis(False)\n",
    "  return onerow;\n",
    "\n"
   ]
  },
  {
   "cell_type": "code",
   "execution_count": null,
   "metadata": {
    "colab": {
     "base_uri": "https://localhost:8080/",
     "height": 1000
    },
    "id": "M2azB0vUxiRB",
    "outputId": "b9d489a7-34aa-491c-b273-e5789a50e8b1"
   },
   "outputs": [
    {
     "name": "stdout",
     "output_type": "stream",
     "text": [
      "(14, 14)\n"
     ]
    },
    {
     "name": "stderr",
     "output_type": "stream",
     "text": [
      "<ipython-input-7-e359163a3810>:62: RuntimeWarning: overflow encountered in exp\n",
      "  return 1 / (1 + np.exp(-x))\n"
     ]
    },
    {
     "name": "stdout",
     "output_type": "stream",
     "text": [
      "(7, 7)\n",
      "(1, 196)\n"
     ]
    },
    {
     "name": "stderr",
     "output_type": "stream",
     "text": [
      "<ipython-input-4-5316ff1f7825>:66: RuntimeWarning: overflow encountered in exp\n",
      "  return 1 / (1 + np.exp(-x))\n"
     ]
    },
    {
     "data": {
      "text/plain": [
       "0"
      ]
     },
     "execution_count": 8,
     "metadata": {},
     "output_type": "execute_result"
    },
    {
     "data": {
      "image/png": "[encoded data removed]",
      "text/plain": [
       "<Figure size 1500x1500 with 13 Axes>"
      ]
     },
     "metadata": {},
     "output_type": "display_data"
    }
   ],
   "source": [
    "image=(cv2.imread('0.jpg'))\n",
    "c=filterExplain(image)\n",
    "check(image)"
   ]
  },
  {
   "cell_type": "code",
   "execution_count": null,
   "metadata": {
    "colab": {
     "base_uri": "https://localhost:8080/",
     "height": 75
    },
    "id": "95MVouRrA5Ma",
    "outputId": "d614d420-e986-4131-cd0f-0f99e59bd91d"
   },
   "outputs": [
    {
     "name": "stdout",
     "output_type": "stream",
     "text": [
      "OUTPUT IMAGE\n"
     ]
    },
    {
     "data": {
      "text/plain": [
       "(-0.5, 195.5, 0.5, -0.5)"
      ]
     },
     "execution_count": 9,
     "metadata": {},
     "output_type": "execute_result"
    },
    {
     "data": {
      "image/png": "[encoded data removed]",
      "text/plain": [
       "<Figure size 3000x3000 with 1 Axes>"
      ]
     },
     "metadata": {},
     "output_type": "display_data"
    }
   ],
   "source": [
    "print(\"OUTPUT IMAGE\")\n",
    "plt.figure(figsize=(30,30))\n",
    "plt.imshow(c,cmap=\"gray\")\n",
    "plt.axis(False)"
   ]
  },
  {
   "cell_type": "code",
   "execution_count": null,
   "metadata": {
    "colab": {
     "base_uri": "https://localhost:8080/"
    },
    "id": "WN4QT1h4Bhsq",
    "outputId": "4ed6ca1d-4b53-48aa-d528-d207533e4b2e"
   },
   "outputs": [
    {
     "name": "stderr",
     "output_type": "stream",
     "text": [
      "<ipython-input-4-5316ff1f7825>:66: RuntimeWarning: overflow encountered in exp\n",
      "  return 1 / (1 + np.exp(-x))\n"
     ]
    },
    {
     "data": {
      "text/plain": [
       "0"
      ]
     },
     "execution_count": 10,
     "metadata": {},
     "output_type": "execute_result"
    }
   ],
   "source": [
    "check(image)"
   ]
  },
  {
   "cell_type": "code",
   "execution_count": null,
   "metadata": {
    "colab": {
     "base_uri": "https://localhost:8080/"
    },
    "id": "8dObiMFGVdqC",
    "outputId": "3fdad22d-4734-429b-fe10-ba7ddd6a1b53"
   },
   "outputs": [
    {
     "name": "stderr",
     "output_type": "stream",
     "text": [
      "<ipython-input-12-84ea203cb11a>:64: RuntimeWarning: overflow encountered in exp\n",
      "  return 1 / (1 + np.exp(-x))\n"
     ]
    },
    {
     "data": {
      "text/plain": [
       "0"
      ]
     },
     "execution_count": 16,
     "metadata": {},
     "output_type": "execute_result"
    }
   ],
   "source": [
    "image1=(cv2.imread('0.jpg'))\n",
    "check(image1)"
   ]
  },
  {
   "cell_type": "code",
   "execution_count": null,
   "metadata": {
    "id": "VM2D0XHsFIQk"
   },
   "outputs": [],
   "source": []
  }
 ],
 "metadata": {
  "accelerator": "GPU",
  "colab": {
   "gpuType": "T4",
   "provenance": []
  },
  "kernelspec": {
   "display_name": "Python 3 (ipykernel)",
   "language": "python",
   "name": "python3"
  },
  "language_info": {
   "codemirror_mode": {
    "name": "ipython",
    "version": 3
   },
   "file_extension": ".py",
   "mimetype": "text/x-python",
   "name": "python",
   "nbconvert_exporter": "python",
   "pygments_lexer": "ipython3",
   "version": "3.9.13"
  }
 },
 "nbformat": 4,
 "nbformat_minor": 1
}
